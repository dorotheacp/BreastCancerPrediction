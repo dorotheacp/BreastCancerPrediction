{
  "nbformat": 4,
  "nbformat_minor": 0,
  "metadata": {
    "colab": {
      "name": "BreastCancerPrediction.ipynb",
      "provenance": [],
      "toc_visible": true
    },
    "kernelspec": {
      "name": "python3",
      "display_name": "Python 3"
    },
    "language_info": {
      "name": "python"
    }
  },
  "cells": [
    {
      "cell_type": "markdown",
      "source": [
        "# Import Library & Data"
      ],
      "metadata": {
        "id": "hg67cggnScnI"
      }
    },
    {
      "cell_type": "markdown",
      "source": [
        "## Import Library"
      ],
      "metadata": {
        "id": "0sM6KK2aSh3l"
      }
    },
    {
      "cell_type": "code",
      "execution_count": 3,
      "metadata": {
        "id": "6SEKN2JoLYJ9"
      },
      "outputs": [],
      "source": [
        "# Importing Library\n",
        "import os\n",
        "import random\n",
        "\n",
        "# For Data Processing\n",
        "import numpy as np\n",
        "import pandas as pd\n",
        "from sklearn.preprocessing import LabelEncoder\n",
        "from sklearn.model_selection import train_test_split \n",
        "\n",
        "# For ML models\n",
        "from sklearn.linear_model import LinearRegression, LogisticRegression\n",
        "from sklearn.tree import DecisionTreeClassifier\n",
        "from sklearn.neighbors import KNeighborsClassifier\n",
        "from sklearn.naive_bayes import GaussianNB\n",
        "from sklearn.ensemble import AdaBoostRegressor\n",
        "from sklearn.ensemble import RandomForestClassifier\n",
        "import xgboost as xgb\n",
        "from sklearn.svm import SVC ,SVR\n",
        "from sklearn.metrics import f1_score, confusion_matrix, accuracy_score, classification_report\n",
        "from sklearn.model_selection import GridSearchCV\n",
        "from sklearn.decomposition import PCA\n",
        "\n",
        "# For Data Visualization\n",
        "import matplotlib.pyplot as plt\n",
        "import seaborn as sns\n",
        "import plotly.express as px\n",
        "import plotly.graph_objects as go\n",
        "from plotly.subplots import make_subplots"
      ]
    },
    {
      "cell_type": "markdown",
      "source": [
        "## Import Data"
      ],
      "metadata": {
        "id": "-I7zrvd4SkVv"
      }
    },
    {
      "cell_type": "code",
      "source": [
        "# Mounting Google Drive\n",
        "from google.colab import drive\n",
        "drive.mount(\"/content/gdrive\")"
      ],
      "metadata": {
        "colab": {
          "base_uri": "https://localhost:8080/"
        },
        "id": "V-cG82h8SnFD",
        "outputId": "e3fae354-b10b-4414-9151-1828918c4d27"
      },
      "execution_count": 1,
      "outputs": [
        {
          "output_type": "stream",
          "name": "stdout",
          "text": [
            "Mounted at /content/gdrive\n"
          ]
        }
      ]
    },
    {
      "cell_type": "code",
      "source": [
        "# Importing data from drive\n",
        "df = pd.read_csv('/content/gdrive/My Drive/Colab Notebooks/portfolio/Breast_cancer_data.csv') #, index_col='ID')\n",
        "df.head()"
      ],
      "metadata": {
        "colab": {
          "base_uri": "https://localhost:8080/",
          "height": 206
        },
        "id": "zU13dXkBSs9i",
        "outputId": "731bfd98-ba24-4a82-d028-779078d00d9c"
      },
      "execution_count": 4,
      "outputs": [
        {
          "output_type": "execute_result",
          "data": {
            "text/plain": [
              "   mean_radius  mean_texture  mean_perimeter  mean_area  mean_smoothness  \\\n",
              "0        17.99         10.38          122.80     1001.0          0.11840   \n",
              "1        20.57         17.77          132.90     1326.0          0.08474   \n",
              "2        19.69         21.25          130.00     1203.0          0.10960   \n",
              "3        11.42         20.38           77.58      386.1          0.14250   \n",
              "4        20.29         14.34          135.10     1297.0          0.10030   \n",
              "\n",
              "   diagnosis  \n",
              "0          0  \n",
              "1          0  \n",
              "2          0  \n",
              "3          0  \n",
              "4          0  "
            ],
            "text/html": [
              "\n",
              "  <div id=\"df-55e188d2-27e9-4632-a9b0-76cbebfbfa5e\">\n",
              "    <div class=\"colab-df-container\">\n",
              "      <div>\n",
              "<style scoped>\n",
              "    .dataframe tbody tr th:only-of-type {\n",
              "        vertical-align: middle;\n",
              "    }\n",
              "\n",
              "    .dataframe tbody tr th {\n",
              "        vertical-align: top;\n",
              "    }\n",
              "\n",
              "    .dataframe thead th {\n",
              "        text-align: right;\n",
              "    }\n",
              "</style>\n",
              "<table border=\"1\" class=\"dataframe\">\n",
              "  <thead>\n",
              "    <tr style=\"text-align: right;\">\n",
              "      <th></th>\n",
              "      <th>mean_radius</th>\n",
              "      <th>mean_texture</th>\n",
              "      <th>mean_perimeter</th>\n",
              "      <th>mean_area</th>\n",
              "      <th>mean_smoothness</th>\n",
              "      <th>diagnosis</th>\n",
              "    </tr>\n",
              "  </thead>\n",
              "  <tbody>\n",
              "    <tr>\n",
              "      <th>0</th>\n",
              "      <td>17.99</td>\n",
              "      <td>10.38</td>\n",
              "      <td>122.80</td>\n",
              "      <td>1001.0</td>\n",
              "      <td>0.11840</td>\n",
              "      <td>0</td>\n",
              "    </tr>\n",
              "    <tr>\n",
              "      <th>1</th>\n",
              "      <td>20.57</td>\n",
              "      <td>17.77</td>\n",
              "      <td>132.90</td>\n",
              "      <td>1326.0</td>\n",
              "      <td>0.08474</td>\n",
              "      <td>0</td>\n",
              "    </tr>\n",
              "    <tr>\n",
              "      <th>2</th>\n",
              "      <td>19.69</td>\n",
              "      <td>21.25</td>\n",
              "      <td>130.00</td>\n",
              "      <td>1203.0</td>\n",
              "      <td>0.10960</td>\n",
              "      <td>0</td>\n",
              "    </tr>\n",
              "    <tr>\n",
              "      <th>3</th>\n",
              "      <td>11.42</td>\n",
              "      <td>20.38</td>\n",
              "      <td>77.58</td>\n",
              "      <td>386.1</td>\n",
              "      <td>0.14250</td>\n",
              "      <td>0</td>\n",
              "    </tr>\n",
              "    <tr>\n",
              "      <th>4</th>\n",
              "      <td>20.29</td>\n",
              "      <td>14.34</td>\n",
              "      <td>135.10</td>\n",
              "      <td>1297.0</td>\n",
              "      <td>0.10030</td>\n",
              "      <td>0</td>\n",
              "    </tr>\n",
              "  </tbody>\n",
              "</table>\n",
              "</div>\n",
              "      <button class=\"colab-df-convert\" onclick=\"convertToInteractive('df-55e188d2-27e9-4632-a9b0-76cbebfbfa5e')\"\n",
              "              title=\"Convert this dataframe to an interactive table.\"\n",
              "              style=\"display:none;\">\n",
              "        \n",
              "  <svg xmlns=\"http://www.w3.org/2000/svg\" height=\"24px\"viewBox=\"0 0 24 24\"\n",
              "       width=\"24px\">\n",
              "    <path d=\"M0 0h24v24H0V0z\" fill=\"none\"/>\n",
              "    <path d=\"M18.56 5.44l.94 2.06.94-2.06 2.06-.94-2.06-.94-.94-2.06-.94 2.06-2.06.94zm-11 1L8.5 8.5l.94-2.06 2.06-.94-2.06-.94L8.5 2.5l-.94 2.06-2.06.94zm10 10l.94 2.06.94-2.06 2.06-.94-2.06-.94-.94-2.06-.94 2.06-2.06.94z\"/><path d=\"M17.41 7.96l-1.37-1.37c-.4-.4-.92-.59-1.43-.59-.52 0-1.04.2-1.43.59L10.3 9.45l-7.72 7.72c-.78.78-.78 2.05 0 2.83L4 21.41c.39.39.9.59 1.41.59.51 0 1.02-.2 1.41-.59l7.78-7.78 2.81-2.81c.8-.78.8-2.07 0-2.86zM5.41 20L4 18.59l7.72-7.72 1.47 1.35L5.41 20z\"/>\n",
              "  </svg>\n",
              "      </button>\n",
              "      \n",
              "  <style>\n",
              "    .colab-df-container {\n",
              "      display:flex;\n",
              "      flex-wrap:wrap;\n",
              "      gap: 12px;\n",
              "    }\n",
              "\n",
              "    .colab-df-convert {\n",
              "      background-color: #E8F0FE;\n",
              "      border: none;\n",
              "      border-radius: 50%;\n",
              "      cursor: pointer;\n",
              "      display: none;\n",
              "      fill: #1967D2;\n",
              "      height: 32px;\n",
              "      padding: 0 0 0 0;\n",
              "      width: 32px;\n",
              "    }\n",
              "\n",
              "    .colab-df-convert:hover {\n",
              "      background-color: #E2EBFA;\n",
              "      box-shadow: 0px 1px 2px rgba(60, 64, 67, 0.3), 0px 1px 3px 1px rgba(60, 64, 67, 0.15);\n",
              "      fill: #174EA6;\n",
              "    }\n",
              "\n",
              "    [theme=dark] .colab-df-convert {\n",
              "      background-color: #3B4455;\n",
              "      fill: #D2E3FC;\n",
              "    }\n",
              "\n",
              "    [theme=dark] .colab-df-convert:hover {\n",
              "      background-color: #434B5C;\n",
              "      box-shadow: 0px 1px 3px 1px rgba(0, 0, 0, 0.15);\n",
              "      filter: drop-shadow(0px 1px 2px rgba(0, 0, 0, 0.3));\n",
              "      fill: #FFFFFF;\n",
              "    }\n",
              "  </style>\n",
              "\n",
              "      <script>\n",
              "        const buttonEl =\n",
              "          document.querySelector('#df-55e188d2-27e9-4632-a9b0-76cbebfbfa5e button.colab-df-convert');\n",
              "        buttonEl.style.display =\n",
              "          google.colab.kernel.accessAllowed ? 'block' : 'none';\n",
              "\n",
              "        async function convertToInteractive(key) {\n",
              "          const element = document.querySelector('#df-55e188d2-27e9-4632-a9b0-76cbebfbfa5e');\n",
              "          const dataTable =\n",
              "            await google.colab.kernel.invokeFunction('convertToInteractive',\n",
              "                                                     [key], {});\n",
              "          if (!dataTable) return;\n",
              "\n",
              "          const docLinkHtml = 'Like what you see? Visit the ' +\n",
              "            '<a target=\"_blank\" href=https://colab.research.google.com/notebooks/data_table.ipynb>data table notebook</a>'\n",
              "            + ' to learn more about interactive tables.';\n",
              "          element.innerHTML = '';\n",
              "          dataTable['output_type'] = 'display_data';\n",
              "          await google.colab.output.renderOutput(dataTable, element);\n",
              "          const docLink = document.createElement('div');\n",
              "          docLink.innerHTML = docLinkHtml;\n",
              "          element.appendChild(docLink);\n",
              "        }\n",
              "      </script>\n",
              "    </div>\n",
              "  </div>\n",
              "  "
            ]
          },
          "metadata": {},
          "execution_count": 4
        }
      ]
    },
    {
      "cell_type": "markdown",
      "source": [
        "# Data Information"
      ],
      "metadata": {
        "id": "QN0HQjamp5Jd"
      }
    },
    {
      "cell_type": "code",
      "source": [
        "df.info()"
      ],
      "metadata": {
        "colab": {
          "base_uri": "https://localhost:8080/"
        },
        "id": "qwbvpEkpTdmA",
        "outputId": "a42b4ee0-a6f2-4d6c-ad16-4a4ffaa7356a"
      },
      "execution_count": 5,
      "outputs": [
        {
          "output_type": "stream",
          "name": "stdout",
          "text": [
            "<class 'pandas.core.frame.DataFrame'>\n",
            "RangeIndex: 569 entries, 0 to 568\n",
            "Data columns (total 6 columns):\n",
            " #   Column           Non-Null Count  Dtype  \n",
            "---  ------           --------------  -----  \n",
            " 0   mean_radius      569 non-null    float64\n",
            " 1   mean_texture     569 non-null    float64\n",
            " 2   mean_perimeter   569 non-null    float64\n",
            " 3   mean_area        569 non-null    float64\n",
            " 4   mean_smoothness  569 non-null    float64\n",
            " 5   diagnosis        569 non-null    int64  \n",
            "dtypes: float64(5), int64(1)\n",
            "memory usage: 26.8 KB\n"
          ]
        }
      ]
    },
    {
      "cell_type": "code",
      "source": [
        "# Column Statistics\n",
        "df.describe()[1:][['mean_radius','mean_texture','mean_perimeter','mean_area','mean_smoothness']]"
      ],
      "metadata": {
        "colab": {
          "base_uri": "https://localhost:8080/",
          "height": 269
        },
        "id": "ffrv1rjEUTYo",
        "outputId": "2e892471-fa22-41b9-9a6f-c480026a25f6"
      },
      "execution_count": 7,
      "outputs": [
        {
          "output_type": "execute_result",
          "data": {
            "text/plain": [
              "      mean_radius  mean_texture  mean_perimeter    mean_area  mean_smoothness\n",
              "mean    14.127292     19.289649       91.969033   654.889104         0.096360\n",
              "std      3.524049      4.301036       24.298981   351.914129         0.014064\n",
              "min      6.981000      9.710000       43.790000   143.500000         0.052630\n",
              "25%     11.700000     16.170000       75.170000   420.300000         0.086370\n",
              "50%     13.370000     18.840000       86.240000   551.100000         0.095870\n",
              "75%     15.780000     21.800000      104.100000   782.700000         0.105300\n",
              "max     28.110000     39.280000      188.500000  2501.000000         0.163400"
            ],
            "text/html": [
              "\n",
              "  <div id=\"df-4aacd0ab-9700-4e15-840b-5584c03ee0ad\">\n",
              "    <div class=\"colab-df-container\">\n",
              "      <div>\n",
              "<style scoped>\n",
              "    .dataframe tbody tr th:only-of-type {\n",
              "        vertical-align: middle;\n",
              "    }\n",
              "\n",
              "    .dataframe tbody tr th {\n",
              "        vertical-align: top;\n",
              "    }\n",
              "\n",
              "    .dataframe thead th {\n",
              "        text-align: right;\n",
              "    }\n",
              "</style>\n",
              "<table border=\"1\" class=\"dataframe\">\n",
              "  <thead>\n",
              "    <tr style=\"text-align: right;\">\n",
              "      <th></th>\n",
              "      <th>mean_radius</th>\n",
              "      <th>mean_texture</th>\n",
              "      <th>mean_perimeter</th>\n",
              "      <th>mean_area</th>\n",
              "      <th>mean_smoothness</th>\n",
              "    </tr>\n",
              "  </thead>\n",
              "  <tbody>\n",
              "    <tr>\n",
              "      <th>mean</th>\n",
              "      <td>14.127292</td>\n",
              "      <td>19.289649</td>\n",
              "      <td>91.969033</td>\n",
              "      <td>654.889104</td>\n",
              "      <td>0.096360</td>\n",
              "    </tr>\n",
              "    <tr>\n",
              "      <th>std</th>\n",
              "      <td>3.524049</td>\n",
              "      <td>4.301036</td>\n",
              "      <td>24.298981</td>\n",
              "      <td>351.914129</td>\n",
              "      <td>0.014064</td>\n",
              "    </tr>\n",
              "    <tr>\n",
              "      <th>min</th>\n",
              "      <td>6.981000</td>\n",
              "      <td>9.710000</td>\n",
              "      <td>43.790000</td>\n",
              "      <td>143.500000</td>\n",
              "      <td>0.052630</td>\n",
              "    </tr>\n",
              "    <tr>\n",
              "      <th>25%</th>\n",
              "      <td>11.700000</td>\n",
              "      <td>16.170000</td>\n",
              "      <td>75.170000</td>\n",
              "      <td>420.300000</td>\n",
              "      <td>0.086370</td>\n",
              "    </tr>\n",
              "    <tr>\n",
              "      <th>50%</th>\n",
              "      <td>13.370000</td>\n",
              "      <td>18.840000</td>\n",
              "      <td>86.240000</td>\n",
              "      <td>551.100000</td>\n",
              "      <td>0.095870</td>\n",
              "    </tr>\n",
              "    <tr>\n",
              "      <th>75%</th>\n",
              "      <td>15.780000</td>\n",
              "      <td>21.800000</td>\n",
              "      <td>104.100000</td>\n",
              "      <td>782.700000</td>\n",
              "      <td>0.105300</td>\n",
              "    </tr>\n",
              "    <tr>\n",
              "      <th>max</th>\n",
              "      <td>28.110000</td>\n",
              "      <td>39.280000</td>\n",
              "      <td>188.500000</td>\n",
              "      <td>2501.000000</td>\n",
              "      <td>0.163400</td>\n",
              "    </tr>\n",
              "  </tbody>\n",
              "</table>\n",
              "</div>\n",
              "      <button class=\"colab-df-convert\" onclick=\"convertToInteractive('df-4aacd0ab-9700-4e15-840b-5584c03ee0ad')\"\n",
              "              title=\"Convert this dataframe to an interactive table.\"\n",
              "              style=\"display:none;\">\n",
              "        \n",
              "  <svg xmlns=\"http://www.w3.org/2000/svg\" height=\"24px\"viewBox=\"0 0 24 24\"\n",
              "       width=\"24px\">\n",
              "    <path d=\"M0 0h24v24H0V0z\" fill=\"none\"/>\n",
              "    <path d=\"M18.56 5.44l.94 2.06.94-2.06 2.06-.94-2.06-.94-.94-2.06-.94 2.06-2.06.94zm-11 1L8.5 8.5l.94-2.06 2.06-.94-2.06-.94L8.5 2.5l-.94 2.06-2.06.94zm10 10l.94 2.06.94-2.06 2.06-.94-2.06-.94-.94-2.06-.94 2.06-2.06.94z\"/><path d=\"M17.41 7.96l-1.37-1.37c-.4-.4-.92-.59-1.43-.59-.52 0-1.04.2-1.43.59L10.3 9.45l-7.72 7.72c-.78.78-.78 2.05 0 2.83L4 21.41c.39.39.9.59 1.41.59.51 0 1.02-.2 1.41-.59l7.78-7.78 2.81-2.81c.8-.78.8-2.07 0-2.86zM5.41 20L4 18.59l7.72-7.72 1.47 1.35L5.41 20z\"/>\n",
              "  </svg>\n",
              "      </button>\n",
              "      \n",
              "  <style>\n",
              "    .colab-df-container {\n",
              "      display:flex;\n",
              "      flex-wrap:wrap;\n",
              "      gap: 12px;\n",
              "    }\n",
              "\n",
              "    .colab-df-convert {\n",
              "      background-color: #E8F0FE;\n",
              "      border: none;\n",
              "      border-radius: 50%;\n",
              "      cursor: pointer;\n",
              "      display: none;\n",
              "      fill: #1967D2;\n",
              "      height: 32px;\n",
              "      padding: 0 0 0 0;\n",
              "      width: 32px;\n",
              "    }\n",
              "\n",
              "    .colab-df-convert:hover {\n",
              "      background-color: #E2EBFA;\n",
              "      box-shadow: 0px 1px 2px rgba(60, 64, 67, 0.3), 0px 1px 3px 1px rgba(60, 64, 67, 0.15);\n",
              "      fill: #174EA6;\n",
              "    }\n",
              "\n",
              "    [theme=dark] .colab-df-convert {\n",
              "      background-color: #3B4455;\n",
              "      fill: #D2E3FC;\n",
              "    }\n",
              "\n",
              "    [theme=dark] .colab-df-convert:hover {\n",
              "      background-color: #434B5C;\n",
              "      box-shadow: 0px 1px 3px 1px rgba(0, 0, 0, 0.15);\n",
              "      filter: drop-shadow(0px 1px 2px rgba(0, 0, 0, 0.3));\n",
              "      fill: #FFFFFF;\n",
              "    }\n",
              "  </style>\n",
              "\n",
              "      <script>\n",
              "        const buttonEl =\n",
              "          document.querySelector('#df-4aacd0ab-9700-4e15-840b-5584c03ee0ad button.colab-df-convert');\n",
              "        buttonEl.style.display =\n",
              "          google.colab.kernel.accessAllowed ? 'block' : 'none';\n",
              "\n",
              "        async function convertToInteractive(key) {\n",
              "          const element = document.querySelector('#df-4aacd0ab-9700-4e15-840b-5584c03ee0ad');\n",
              "          const dataTable =\n",
              "            await google.colab.kernel.invokeFunction('convertToInteractive',\n",
              "                                                     [key], {});\n",
              "          if (!dataTable) return;\n",
              "\n",
              "          const docLinkHtml = 'Like what you see? Visit the ' +\n",
              "            '<a target=\"_blank\" href=https://colab.research.google.com/notebooks/data_table.ipynb>data table notebook</a>'\n",
              "            + ' to learn more about interactive tables.';\n",
              "          element.innerHTML = '';\n",
              "          dataTable['output_type'] = 'display_data';\n",
              "          await google.colab.output.renderOutput(dataTable, element);\n",
              "          const docLink = document.createElement('div');\n",
              "          docLink.innerHTML = docLinkHtml;\n",
              "          element.appendChild(docLink);\n",
              "        }\n",
              "      </script>\n",
              "    </div>\n",
              "  </div>\n",
              "  "
            ]
          },
          "metadata": {},
          "execution_count": 7
        }
      ]
    },
    {
      "cell_type": "code",
      "source": [
        "sns.set(style=\"darkgrid\")\n",
        "sns.set(rc={'figure.figsize':(16,8)})\n",
        " \n",
        "# creating a figure composed of 3 matplotlib.Axes objects\n",
        "f, (ax_box1, ax_box2, ax_hist) = plt.subplots(3, sharex=True, gridspec_kw={\"height_ratios\": (.15, .15, .85)})\n",
        "# assigning a graph to each ax\n",
        "sns.boxplot(x=df[df['diagnosis']==1][\"mean_radius\"], ax=ax_box1, color=\"#ea4335\")\n",
        "sns.histplot(df[df['diagnosis']==1], x=\"mean_radius\", ax=ax_hist, kde=True, color=\"#ea4335\")\n",
        "\n",
        "sns.boxplot(x=df[df['diagnosis']==0][\"mean_radius\"], ax=ax_box2, color='#4285f4')\n",
        "sns.histplot(df[df['diagnosis']==0], x=\"mean_radius\", ax=ax_hist, kde=True, color='#4285f4')\n",
        " \n",
        "# Remove x axis name for the boxplots\n",
        "ax_box1.set(xlabel='')\n",
        "ax_box2.set(xlabel='')\n",
        "\n",
        "plt.legend(title='', loc=2, labels=['Breast Cancer', 'No Breast Cancer'],bbox_to_anchor=(1.02, 1), borderaxespad=0.)\n",
        "plt.show()"
      ],
      "metadata": {
        "colab": {
          "base_uri": "https://localhost:8080/",
          "height": 432
        },
        "id": "NyMnWEp8Vu6v",
        "outputId": "474fc76c-f129-4f03-c1bb-e30c8e56b62d"
      },
      "execution_count": 11,
      "outputs": [
        {
          "output_type": "display_data",
          "data": {
            "text/plain": [
              "<Figure size 1152x576 with 3 Axes>"
            ],
            "image/png": "[encoded data removed]"
          },
          "metadata": {}
        }
      ]
    },
    {
      "cell_type": "markdown",
      "source": [
        "Mean radius of patients with breas cancer are lower than those who never had breast cancer"
      ],
      "metadata": {
        "id": "lWwYLLEKXbvf"
      }
    },
    {
      "cell_type": "markdown",
      "source": [
        "# Machine Learning Models"
      ],
      "metadata": {
        "id": "Jc910TCcTpZ3"
      }
    },
    {
      "cell_type": "markdown",
      "source": [
        "Spliting training & testing data\n",
        "\n",
        "(80% train data & 20% test data)"
      ],
      "metadata": {
        "id": "6VfSYh5nYGB2"
      }
    },
    {
      "cell_type": "code",
      "source": [
        "features = np.array(df[[col for col in df.columns if col!='diagnosis']])\n",
        "labels = np.array(df['diagnosis'])\n",
        "\n",
        "x_train, x_test, y_train, y_test = train_test_split(features, labels, test_size=0.2, random_state=0)"
      ],
      "metadata": {
        "id": "RNKAiW7fYD7c"
      },
      "execution_count": 12,
      "outputs": []
    },
    {
      "cell_type": "code",
      "source": [
        "model_comparison = {}"
      ],
      "metadata": {
        "id": "eCm1l3NJY39H"
      },
      "execution_count": 21,
      "outputs": []
    },
    {
      "cell_type": "markdown",
      "source": [
        "## SVM"
      ],
      "metadata": {
        "id": "ZKiFEEQ8T8fC"
      }
    },
    {
      "cell_type": "code",
      "source": [
        "parameters = {'C': [1,2,3,4,5,6], 'kernel': ['linear', 'poly', 'rbf', 'sigmoid']}\n",
        "\n",
        "svc_model = SVC()\n",
        "\n",
        "clf = GridSearchCV(svc_model, parameters)\n",
        "print(\"Searching for best hyperparameters ...\")\n",
        "clf.fit(x_train, y_train)\n",
        "print(f'Best Hyperparameters: {clf.best_params_}')\n",
        "\n",
        "y_pred = clf.predict(x_test)\n",
        "model_comparison['SVM'] = [accuracy_score(y_test,y_pred), f1_score(y_test,y_pred, average='weighted')]\n",
        "print('\\n')\n",
        "print(classification_report(y_test,y_pred, zero_division=1, digits=3))"
      ],
      "metadata": {
        "colab": {
          "base_uri": "https://localhost:8080/"
        },
        "id": "hqtWVkMqZCjZ",
        "outputId": "919e5da7-b669-44b1-92cf-6fbb57b980c6"
      },
      "execution_count": 22,
      "outputs": [
        {
          "output_type": "stream",
          "name": "stdout",
          "text": [
            "Searching for best hyperparameters ...\n",
            "Best Hyperparameters: {'C': 3, 'kernel': 'linear'}\n",
            "\n",
            "\n",
            "              precision    recall  f1-score   support\n",
            "\n",
            "           0      0.878     0.915     0.896        47\n",
            "           1      0.938     0.910     0.924        67\n",
            "\n",
            "    accuracy                          0.912       114\n",
            "   macro avg      0.908     0.913     0.910       114\n",
            "weighted avg      0.913     0.912     0.913       114\n",
            "\n"
          ]
        }
      ]
    },
    {
      "cell_type": "markdown",
      "source": [
        "## Random Forest"
      ],
      "metadata": {
        "id": "FVHPA8MzT1YS"
      }
    },
    {
      "cell_type": "code",
      "source": [
        "parameters = {'n_estimators': [160,180,200,220], 'max_depth':[16,18,20,22,24]}\n",
        "\n",
        "rf = RandomForestClassifier()\n",
        "\n",
        "clf = GridSearchCV(rf, parameters)\n",
        "print(\"Searching for best hyperparameters ...\")\n",
        "clf.fit(x_train, y_train)\n",
        "print(f'Best Hyperparameters: {clf.best_params_}')\n",
        "\n",
        "y_pred = clf.predict(x_test)\n",
        "model_comparison['RandomForest'] = [accuracy_score(y_test,y_pred), f1_score(y_test,y_pred, average='weighted')]\n",
        "print('\\n')\n",
        "print(classification_report(y_test,y_pred, zero_division=1, digits=3))"
      ],
      "metadata": {
        "colab": {
          "base_uri": "https://localhost:8080/"
        },
        "id": "2JtxZHAqZ6Id",
        "outputId": "daf8c912-4bb9-4b9a-830b-cd237aa72a53"
      },
      "execution_count": 23,
      "outputs": [
        {
          "output_type": "stream",
          "name": "stdout",
          "text": [
            "Searching for best hyperparameters ...\n",
            "Best Hyperparameters: {'max_depth': 22, 'n_estimators': 160}\n",
            "\n",
            "\n",
            "              precision    recall  f1-score   support\n",
            "\n",
            "           0      0.933     0.894     0.913        47\n",
            "           1      0.928     0.955     0.941        67\n",
            "\n",
            "    accuracy                          0.930       114\n",
            "   macro avg      0.930     0.924     0.927       114\n",
            "weighted avg      0.930     0.930     0.930       114\n",
            "\n"
          ]
        }
      ]
    },
    {
      "cell_type": "markdown",
      "source": [
        "## KNN"
      ],
      "metadata": {
        "id": "fvf7rKeHT-gr"
      }
    },
    {
      "cell_type": "code",
      "source": [
        "parameters = {'n_neighbors': [5,10,15,20]}\n",
        "\n",
        "K_model = KNeighborsClassifier()\n",
        "\n",
        "clf = GridSearchCV(K_model, parameters)\n",
        "print(\"Searching for best hyperparameters ...\")\n",
        "clf.fit(x_train, y_train)\n",
        "print(f'Best Hyperparameters: {clf.best_params_}')\n",
        "\n",
        "y_pred = clf.predict(x_test)\n",
        "model_comparison['KNN'] = [accuracy_score(y_test,y_pred), f1_score(y_test,y_pred, average='weighted')]\n",
        "print('\\n')\n",
        "print(classification_report(y_test,y_pred, zero_division=1, digits=3))"
      ],
      "metadata": {
        "colab": {
          "base_uri": "https://localhost:8080/"
        },
        "id": "-GW-glbqZ0X8",
        "outputId": "7a7650e3-a29e-4c95-bc70-b7cf82ff1517"
      },
      "execution_count": 24,
      "outputs": [
        {
          "output_type": "stream",
          "name": "stdout",
          "text": [
            "Searching for best hyperparameters ...\n",
            "Best Hyperparameters: {'n_neighbors': 20}\n",
            "\n",
            "\n",
            "              precision    recall  f1-score   support\n",
            "\n",
            "           0      0.929     0.830     0.876        47\n",
            "           1      0.889     0.955     0.921        67\n",
            "\n",
            "    accuracy                          0.904       114\n",
            "   macro avg      0.909     0.893     0.899       114\n",
            "weighted avg      0.905     0.904     0.903       114\n",
            "\n"
          ]
        }
      ]
    },
    {
      "cell_type": "markdown",
      "source": [
        "## Decision Tree"
      ],
      "metadata": {
        "id": "dO6LZuMdUBhc"
      }
    },
    {
      "cell_type": "code",
      "source": [
        "parameters = {'max_depth': [1,2,3,4,5,6]}\n",
        "\n",
        "Tree_model = DecisionTreeClassifier()\n",
        "\n",
        "clf = GridSearchCV(Tree_model, parameters)\n",
        "print(\"Searching for best hyperparameters ...\")\n",
        "clf.fit(x_train, y_train)\n",
        "print(f'Best Hyperparameters: {clf.best_params_}')\n",
        "\n",
        "y_pred = clf.predict(x_test)\n",
        "model_comparison['DecisionTree'] = [accuracy_score(y_test,y_pred), f1_score(y_test,y_pred, average='weighted')]\n",
        "print('\\n')\n",
        "print(classification_report(y_test,y_pred, zero_division=1, digits=3))"
      ],
      "metadata": {
        "colab": {
          "base_uri": "https://localhost:8080/"
        },
        "id": "ErDti_CSZeAR",
        "outputId": "681d594a-4386-42f7-8e82-5cf66e9a751e"
      },
      "execution_count": 25,
      "outputs": [
        {
          "output_type": "stream",
          "name": "stdout",
          "text": [
            "Searching for best hyperparameters ...\n",
            "Best Hyperparameters: {'max_depth': 6}\n",
            "\n",
            "\n",
            "              precision    recall  f1-score   support\n",
            "\n",
            "           0      0.843     0.915     0.878        47\n",
            "           1      0.937     0.881     0.908        67\n",
            "\n",
            "    accuracy                          0.895       114\n",
            "   macro avg      0.890     0.898     0.893       114\n",
            "weighted avg      0.898     0.895     0.895       114\n",
            "\n"
          ]
        }
      ]
    },
    {
      "cell_type": "markdown",
      "source": [
        "## Comparison"
      ],
      "metadata": {
        "id": "TK76Wct9Z--p"
      }
    },
    {
      "cell_type": "code",
      "source": [
        "model_comparison_df = pd.DataFrame.from_dict(model_comparison).T\n",
        "model_comparison_df.columns = ['Accuracy', 'F1 Score']\n",
        "model_comparison_df = model_comparison_df.sort_values('F1 Score', ascending=True)\n",
        "model_comparison_df.style.background_gradient(cmap='Blues')"
      ],
      "metadata": {
        "colab": {
          "base_uri": "https://localhost:8080/",
          "height": 175
        },
        "id": "ldH_RnGoaDWA",
        "outputId": "8a077a56-6fae-4ef8-b97e-0e6e874aede5"
      },
      "execution_count": 26,
      "outputs": [
        {
          "output_type": "execute_result",
          "data": {
            "text/plain": [
              "<pandas.io.formats.style.Styler at 0x7f2982567390>"
            ],
            "text/html": [
              "<style type=\"text/css\">\n",
              "#T_2f6dc_row0_col0, #T_2f6dc_row0_col1 {\n",
              "  background-color: #f7fbff;\n",
              "  color: #000000;\n",
              "}\n",
              "#T_2f6dc_row1_col0 {\n",
              "  background-color: #c6dbef;\n",
              "  color: #000000;\n",
              "}\n",
              "#T_2f6dc_row1_col1 {\n",
              "  background-color: #cde0f1;\n",
              "  color: #000000;\n",
              "}\n",
              "#T_2f6dc_row2_col0 {\n",
              "  background-color: #6caed6;\n",
              "  color: #f1f1f1;\n",
              "}\n",
              "#T_2f6dc_row2_col1 {\n",
              "  background-color: #6aaed6;\n",
              "  color: #f1f1f1;\n",
              "}\n",
              "#T_2f6dc_row3_col0, #T_2f6dc_row3_col1 {\n",
              "  background-color: #08306b;\n",
              "  color: #f1f1f1;\n",
              "}\n",
              "</style>\n",
              "<table id=\"T_2f6dc_\" class=\"dataframe\">\n",
              "  <thead>\n",
              "    <tr>\n",
              "      <th class=\"blank level0\" >&nbsp;</th>\n",
              "      <th class=\"col_heading level0 col0\" >Accuracy</th>\n",
              "      <th class=\"col_heading level0 col1\" >F1 Score</th>\n",
              "    </tr>\n",
              "  </thead>\n",
              "  <tbody>\n",
              "    <tr>\n",
              "      <th id=\"T_2f6dc_level0_row0\" class=\"row_heading level0 row0\" >DecisionTree</th>\n",
              "      <td id=\"T_2f6dc_row0_col0\" class=\"data row0 col0\" >0.894737</td>\n",
              "      <td id=\"T_2f6dc_row0_col1\" class=\"data row0 col1\" >0.895266</td>\n",
              "    </tr>\n",
              "    <tr>\n",
              "      <th id=\"T_2f6dc_level0_row1\" class=\"row_heading level0 row1\" >KNN</th>\n",
              "      <td id=\"T_2f6dc_row1_col0\" class=\"data row1 col0\" >0.903509</td>\n",
              "      <td id=\"T_2f6dc_row1_col1\" class=\"data row1 col1\" >0.902534</td>\n",
              "    </tr>\n",
              "    <tr>\n",
              "      <th id=\"T_2f6dc_level0_row2\" class=\"row_heading level0 row2\" >SVM</th>\n",
              "      <td id=\"T_2f6dc_row2_col0\" class=\"data row2 col0\" >0.912281</td>\n",
              "      <td id=\"T_2f6dc_row2_col1\" class=\"data row2 col1\" >0.912530</td>\n",
              "    </tr>\n",
              "    <tr>\n",
              "      <th id=\"T_2f6dc_level0_row3\" class=\"row_heading level0 row3\" >RandomForest</th>\n",
              "      <td id=\"T_2f6dc_row3_col0\" class=\"data row3 col0\" >0.929825</td>\n",
              "      <td id=\"T_2f6dc_row3_col1\" class=\"data row3 col1\" >0.929578</td>\n",
              "    </tr>\n",
              "  </tbody>\n",
              "</table>\n"
            ]
          },
          "metadata": {},
          "execution_count": 26
        }
      ]
    }
  ]
}